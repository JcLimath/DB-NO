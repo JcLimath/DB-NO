{
 "cells": [
  {
   "cell_type": "code",
   "execution_count": 1,
   "id": "1b1572df-976c-4991-974d-a6400217eaf8",
   "metadata": {},
   "outputs": [],
   "source": [
    "import os\n",
    "import sys\n",
    "import numpy as np\n",
    "import matplotlib\n",
    "import matplotlib.pyplot as plt\n",
    "from mpl_toolkits.axes_grid1 import make_axes_locatable\n",
    "from matplotlib.colors import Normalize\n",
    "import h5py"
   ]
  },
  {
   "cell_type": "code",
   "execution_count": 2,
   "id": "a9a57d31-6dce-491c-8bbc-2f6ab754cf40",
   "metadata": {},
   "outputs": [],
   "source": [
    "datapath = \"/root/autodl-tmp/data/ad/fine/ad2-4/2048\""
   ]
  },
  {
   "cell_type": "code",
   "execution_count": 3,
   "id": "b5c821cf-83e2-4306-80e2-104d4f19dacc",
   "metadata": {},
   "outputs": [
    {
     "name": "stdout",
     "output_type": "stream",
     "text": [
      "['fields', 'other', 'tensor']\n"
     ]
    }
   ],
   "source": [
    "with h5py.File(os.path.join(datapath, \"_train_adr2.0_4.0_32k.h5\"), \"r\") as f:\n",
    "    x_train = f['fields'][:]\n",
    "    x_tensor = f['tensor'][:]\n",
    "    print(list(f.keys()))"
   ]
  },
  {
   "cell_type": "code",
   "execution_count": 4,
   "id": "6ef7a2fa-f7d8-47e1-8f8d-42abffb23358",
   "metadata": {},
   "outputs": [
    {
     "name": "stdout",
     "output_type": "stream",
     "text": [
      "[0.0017195753753185272, 0.003746128, 0.003824043, 0.0010712636, 0.53339124, 0.5419334, 0.17159855, 1, 1]\n"
     ]
    }
   ],
   "source": [
    "source_norm = []\n",
    "sol_max = []\n",
    "tensor_max = []\n",
    "nx = ny = 128\n",
    "lx = ly = 1\n",
    "num_ten = x_tensor.shape[1]\n",
    "\n",
    "for i in range(x_train.shape[0]):\n",
    "    sn = np.linalg.norm(x_train[i,0]) * lx/nx * ly/ny\n",
    "    source_norm.append(sn)\n",
    "    sol_max.append(np.max(np.abs(x_train[i,1])))\n",
    "    tensor_max.append([np.abs(x_tensor[i,t_idx]) for t_idx in range(num_ten)])\n",
    "\n",
    "tensor_max = np.array(tensor_max)\n",
    "source_scale = np.median(source_norm)\n",
    "sol_scale = np.median(sol_max)\n",
    "tensor_scale = [np.median(tensor_max[:,j]) for j in range(num_ten)]\n",
    "\n",
    "scale = [source_scale] + tensor_scale + [sol_scale] + [lx, ly]\n",
    "print(scale)\n"
   ]
  },
  {
   "cell_type": "code",
   "execution_count": 5,
   "id": "41fee5b9-327d-4d8b-8a7b-ddc363e42baa",
   "metadata": {},
   "outputs": [],
   "source": [
    "np.save(os.path.join(datapath, \"_train_adr2.0_4.0_scales.npy\"), scale)"
   ]
  }
 ],
 "metadata": {
  "kernelspec": {
   "display_name": "Python 3 (ipykernel)",
   "language": "python",
   "name": "python3"
  },
  "language_info": {
   "codemirror_mode": {
    "name": "ipython",
    "version": 3
   },
   "file_extension": ".py",
   "mimetype": "text/x-python",
   "name": "python",
   "nbconvert_exporter": "python",
   "pygments_lexer": "ipython3",
   "version": "3.8.10"
  }
 },
 "nbformat": 4,
 "nbformat_minor": 5
}
